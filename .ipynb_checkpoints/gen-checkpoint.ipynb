{
 "cells": [
  {
   "cell_type": "markdown",
   "id": "capital-article",
   "metadata": {},
   "source": [
    "Veiklos proceso (BMP) konvertavimas į panaudos atvejų diagrama. Čia pirminis variantas, su Jupyter netbook (python kalba). "
   ]
  },
  {
   "cell_type": "markdown",
   "id": "certain-windsor",
   "metadata": {},
   "source": [
    "Žemiau bendros bibliotekos"
   ]
  },
  {
   "cell_type": "code",
   "execution_count": null,
   "id": "interstate-eligibility",
   "metadata": {},
   "outputs": [],
   "source": [
    "#naudojamos biliotekos\n",
    "import graphviz as gv\n",
    "from IPython.display import Image\n",
    "\n",
    "#bendros funkcijos\n",
    "def add_node(m,n,t):\n",
    "    if n in m.keys():\n",
    "        m[n].append(t)\n",
    "    else:\n",
    "        m[n] = [t]\n",
    "    return\n",
    "\n",
    "def convert1mts_to_uc(nodes, mtsname, mtsnodes):\n",
    "    actors = {}\n",
    "    for v in mtsnodes:\n",
    "        if nodes[v][2] == \"F\":\n",
    "            add_node(actors,nodes[v][1],v)\n",
    "    return(actors)\n",
    "\n",
    "def get_departments(nodes):\n",
    "    deps = {}\n",
    "    for k in nodes.keys():\n",
    "        v = nodes[k]\n",
    "        if v[1] in deps.keys():\n",
    "             deps[v[1]].append(k)\n",
    "        else:\n",
    "            deps[v[1]] = [k]\n",
    "    return(deps)\n",
    "\n",
    "def get_edges(nodes):\n",
    "    edges = []\n",
    "    for k in nodes.keys():\n",
    "        for t in nodes[k][0]:\n",
    "            edges.append((k,t))\n",
    "    return(edges)"
   ]
  },
  {
   "cell_type": "markdown",
   "id": "institutional-court",
   "metadata": {},
   "source": [
    "# Duomenys\n",
    "Aprašomas grafas, kuris atitinka BPM procesą. Aprašomas kaip dictionary (asociatyvus masyvas) struktūra. Raktas yra veiklos proceso pavadinimas, o pas mus grafo viršūnė. O reikšmė yra 3-matis kortežas :\n",
    "1. viršūnių saras į kurias yra briaunos,  \n",
    "2. takelio pavadinimas\n",
    "3. tipas. S - sisteminis (start ir end), P - materialusis, F - informacinis\n",
    "\n",
    "Laikome, kad analitikas sužymėjo veiklas procese."
   ]
  },
  {
   "cell_type": "code",
   "execution_count": null,
   "id": "expensive-pressing",
   "metadata": {},
   "outputs": [],
   "source": [
    "nodes_map = {\"Start\": ([\"P1\"],\"Material\", \"S\"),\n",
    "         \"P1\": ([\"F1.1\", \"P2\"], \"Material\", \"P\"),\n",
    "         \"P2\": ([\"F2.1\", \"End\"], \"Material\", \"P\"),\n",
    "         \"F1.1\": ([\"F1.2\"], \"Department1\", \"F\"),\n",
    "         \"F1.2\": ([\"F1.3\"], \"Department2\", \"F\"),\n",
    "         \"F1.3\": ([\"P1\"], \"Department3\", \"F\"),\n",
    "         \"F2.1\": ([\"P2\"], \"Department3\", \"F\"),\n",
    "         \"End\" : ([] , \"Material\", \"S\")}"
   ]
  },
  {
   "cell_type": "markdown",
   "id": "prospective-excitement",
   "metadata": {},
   "source": [
    "taip pat laikome, analitikas sužymėjo ir valdymo transakcijas. Čia associatyvus masyvas, kur raktas valdymo transakcijos identifikatorius, o reikšmės yra sąrašas veiklų patenkančių į tą transakciją"
   ]
  },
  {
   "cell_type": "markdown",
   "id": "sharing-burden",
   "metadata": {},
   "source": [
    "# Procesas\n",
    "Pabandom atvaizduoti mūsų įvesta procesą. Visgi šiomis priemonėmis negaliu atvaizduoti takelių vienas šalia kito. Tiesiog takeliai yra veiklų grupavimai ir pats įrankis išdėsto pagal save."
   ]
  },
  {
   "cell_type": "code",
   "execution_count": null,
   "id": "sustainable-schema",
   "metadata": {
    "scrolled": true
   },
   "outputs": [],
   "source": [
    "departments = get_departments(nodes_map)\n",
    "dg = gv.Digraph()\n",
    "for k in departments.keys():      \n",
    "    aname = \"cluster_\" + k\n",
    "    with dg.subgraph(name=aname) as sg:\n",
    "        sg.attr(label=k)\n",
    "        for n in departments[k]:            \n",
    "            sg.node(n)    \n",
    "\n",
    "dg.edges(get_edges(nodes_map))\n",
    "dg\n"
   ]
  },
  {
   "cell_type": "markdown",
   "id": "utility-uruguay",
   "metadata": {},
   "source": [
    "# Valdymo transakcijos\n",
    "Laikome, kad analitikas identitifikavo valdymo transakcijas. Realizuojam, kaip python dictionary, kur raktas yra transakcijos pavadinimas (identifikatorius), o reikšmė - šąrašas veiklų kurios patenka į tą valdymo transakciją"
   ]
  },
  {
   "cell_type": "code",
   "execution_count": null,
   "id": "brutal-portugal",
   "metadata": {},
   "outputs": [],
   "source": [
    "management_trans = {\"MT11\" : [\"P1\", \"F1.1\", \"F1.2\", \"F1.3\"],\n",
    "                    \"MT21\" : [\"P2\", \"F2.1\"]}"
   ]
  },
  {
   "cell_type": "markdown",
   "id": "alleged-cassette",
   "metadata": {},
   "source": [
    "Atvaizduojame ankstesni procesa, kur veiklos sugrupuotos pagal valdymo transakcijas"
   ]
  },
  {
   "cell_type": "code",
   "execution_count": null,
   "id": "scenic-combining",
   "metadata": {},
   "outputs": [],
   "source": [
    "dg2 = gv.Digraph()\n",
    "for k in management_trans.keys():      \n",
    "    aname = \"cluster_\" + k\n",
    "    with dg2.subgraph(name=aname) as sg:\n",
    "        sg.attr(label=k)\n",
    "        for n in management_trans[k]:            \n",
    "            sg.node(n)    \n",
    "\n",
    "dg2.edges(get_edges(nodes_map))\n",
    "dg2"
   ]
  },
  {
   "cell_type": "markdown",
   "id": "massive-edwards",
   "metadata": {},
   "source": [
    "# Panaudos atvejai\n",
    "Konvertuojame į panaudos atvejų modelį - kitą grafą. Ir jį atvaizduojame"
   ]
  },
  {
   "cell_type": "code",
   "execution_count": null,
   "id": "blocked-serbia",
   "metadata": {},
   "outputs": [],
   "source": [
    "ug = gv.Graph()                \n",
    "for m in management_trans.keys():\n",
    "    aname = \"cluster_\" + m\n",
    "    with ug.subgraph(name=aname) as mug:\n",
    "        mug.attr(label=m + \" UC Model\" )\n",
    "        actors = convert1mts_to_uc(nodes_map,m,management_trans[m])\n",
    "        for k in actors.keys():\n",
    "            mug.node(k + m,shapefile=\"actor.png\", margin=\"0,0.3\", label=k, fontsize = \"8\" ,height=\"0.5\", labelloc=\"b\")\n",
    "            mug.edges(map(lambda x: (k + m, x),actors[k]))    \n",
    "\n",
    "ug    "
   ]
  },
  {
   "cell_type": "code",
   "execution_count": null,
   "id": "square-audience",
   "metadata": {},
   "outputs": [],
   "source": []
  }
 ],
 "metadata": {
  "kernelspec": {
   "display_name": "Python 3",
   "language": "python",
   "name": "python3"
  },
  "language_info": {
   "codemirror_mode": {
    "name": "ipython",
    "version": 3
   },
   "file_extension": ".py",
   "mimetype": "text/x-python",
   "name": "python",
   "nbconvert_exporter": "python",
   "pygments_lexer": "ipython3",
   "version": "3.8.6"
  }
 },
 "nbformat": 4,
 "nbformat_minor": 5
}
